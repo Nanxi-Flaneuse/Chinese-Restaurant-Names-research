{
 "cells": [
  {
   "cell_type": "code",
   "execution_count": 1,
   "id": "4ff9c9fa",
   "metadata": {},
   "outputs": [
    {
     "name": "stderr",
     "output_type": "stream",
     "text": [
      "c:\\python38\\lib\\site-packages\\tqdm\\auto.py:22: TqdmWarning: IProgress not found. Please update jupyter and ipywidgets. See https://ipywidgets.readthedocs.io/en/stable/user_install.html\n",
      "  from .autonotebook import tqdm as notebook_tqdm\n"
     ]
    }
   ],
   "source": [
    "import pandas as pd\n",
    "import numpy as np\n",
    "import seaborn as sns\n",
    "import matplotlib.pyplot as plt\n",
    "import math\n",
    "import openai\n",
    "from sentence_transformers import SentenceTransformer, util\n",
    "import json"
   ]
  },
  {
   "cell_type": "code",
   "execution_count": 7,
   "id": "b04bb9b4",
   "metadata": {},
   "outputs": [
    {
     "name": "stdout",
     "output_type": "stream",
     "text": [
      "StartDate                2023-07-25 11:01:23\n",
      "EndDate                  2023-07-25 11:02:05\n",
      "Status                                     0\n",
      "IPAddress                            *******\n",
      "Progress                                 100\n",
      "Duration (in seconds)                     41\n",
      "Finished                                   1\n",
      "RecordedDate             2023-07-25 11:02:06\n",
      "ResponseId                 R_2AFOtRa3RA54r68\n",
      "RecipientLastName                    *******\n",
      "RecipientFirstName                   *******\n",
      "RecipientEmail                       *******\n",
      "ExternalReference                    *******\n",
      "LocationLatitude                     *******\n",
      "LocationLongitude                    *******\n",
      "DistributionChannel                anonymous\n",
      "UserLanguage                              EN\n",
      "1_Q1                                       1\n",
      "1_Q1_1_TEXT                               红叶\n",
      "2_Q1                                       1\n",
      "2_Q1_1_TEXT                              红叶园\n",
      "3_Q1                                       1\n",
      "3_Q1_1_TEXT                               韩亚\n",
      "4_Q1                                       0\n",
      "4_Q1_1_TEXT                              NaN\n",
      "Name: 5, dtype: object\n"
     ]
    }
   ],
   "source": [
    "\n",
    "df = pd.read_csv(r'testing.csv')\n",
    "print(df.iloc[5])\n",
    "# print(df.iloc[0])\n",
    "# print(df)\n"
   ]
  }
 ],
 "metadata": {
  "kernelspec": {
   "display_name": "Python 3 (ipykernel)",
   "language": "python",
   "name": "python3"
  },
  "language_info": {
   "codemirror_mode": {
    "name": "ipython",
    "version": 3
   },
   "file_extension": ".py",
   "mimetype": "text/x-python",
   "name": "python",
   "nbconvert_exporter": "python",
   "pygments_lexer": "ipython3",
   "version": "3.8.6"
  }
 },
 "nbformat": 4,
 "nbformat_minor": 5
}
