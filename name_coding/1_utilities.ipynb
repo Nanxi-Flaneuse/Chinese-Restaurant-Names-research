{
 "cells": [
  {
   "cell_type": "code",
   "execution_count": 2,
   "metadata": {},
   "outputs": [],
   "source": [
    "import pandas as pd\n",
    "import json\n",
    "import numpy as np\n",
    "import statsmodels\n",
    "# from statsmodels import stats, inter_rater\n",
    "# from stats import inter_rater"
   ]
  },
  {
   "cell_type": "markdown",
   "metadata": {},
   "source": [
    "### A. Cleaning the annotation dataset to only include the datapoints from the recleaned parallel sample"
   ]
  },
  {
   "cell_type": "markdown",
   "metadata": {},
   "source": [
    "#### A.1. Helper function for merging two datasets"
   ]
  },
  {
   "cell_type": "code",
   "execution_count": 3,
   "metadata": {},
   "outputs": [],
   "source": [
    "# this function merges guest dataframe into host dataframe. Method is the how argument in the pandas merge method\n",
    "# and column_name is the on argument in the pandas merge method.\n",
    "def merge(host_file, guest_file, method, column_name, save_file):\n",
    "    host = pd.read_csv(host_file)\n",
    "    guest = pd.read_csv(guest_file)\n",
    "    host = host.merge(guest, how = method, on = column_name)\n",
    "    host = host.dropna(subset=['google_id'])\n",
    "    host.to_csv(save_file, index=False, encoding='utf-8')\n",
    "\n",
    "## to be executed\n",
    "# merge('utilities/labeled_datasets/cn_golden_label.csv','output/sample_final_parallel.csv','left','national_id','output/cn_golden_label.csv')\n",
    "# merge('utilities/labeled_datasets/en_golden_label.csv','output/sample_final_parallel.csv','left','national_id','output/en_golden_label.csv')"
   ]
  },
  {
   "cell_type": "markdown",
   "metadata": {},
   "source": [
    "#### A.2 Execution"
   ]
  },
  {
   "cell_type": "code",
   "execution_count": 3,
   "metadata": {},
   "outputs": [],
   "source": [
    "\n",
    "## Step 1: merging the annotated into the national using national_id\n",
    "# merge('../data_cleaning/output/sample_final_parallel.csv','annotations/1000/nanxi_cn.csv','left','national_id','annotations/merged_1000/nanxi_cn.csv')\n",
    "# merge('../data_cleaning/output/sample_final_parallel.csv','annotations/1000/nanxi_en.csv','left','national_id','annotations/merged_1000/nanxi_en.csv')\n",
    "\n",
    "# merge('../data_cleaning/output/sample_final_parallel.csv','annotations/1000/hang_cn.csv','left','national_id','annotations/merged_1000/hang_cn.csv')\n",
    "# merge('../data_cleaning/output/sample_final_parallel.csv','annotations/1000/hang_en.csv','left','national_id','annotations/merged_1000/hang_en.csv')\n",
    "\n",
    "# merge('../data_cleaning/output/sample_final_parallel.csv','annotations/1000/rukun_cn.csv','left','national_id','annotations/merged_1000/rukun_cn.csv')\n",
    "# merge('../data_cleaning/output/sample_final_parallel.csv','annotations/1000/rukun_en.csv','left','national_id','annotations/merged_1000/rukun_en.csv')\n",
    "\n",
    "## Step 2: read in the newly merged filese\n",
    "nanxi_cn = pd.read_csv('annotations/merged_1000/nanxi_cn.csv')\n",
    "nanxi_en = pd.read_csv('annotations/merged_1000/nanxi_en.csv')\n",
    "hang_cn = pd.read_csv('annotations/merged_1000/hang_cn.csv')\n",
    "hang_en = pd.read_csv('annotations/merged_1000/hang_en.csv')\n",
    "rukun_cn = pd.read_csv('annotations/merged_1000/rukun_cn.csv')\n",
    "rukun_en = pd.read_csv('annotations/merged_1000/rukun_en.csv')\n",
    "\n",
    "## Step 3: Merge relationship into ambiance\n",
    "\n",
    "def merge_rel(df,file_to):\n",
    "    df.loc[df['Relationship'] == 1, 'Ambiance'] = 1\n",
    "    df = df.drop(['Relationship'], axis = 1)\n",
    "\n",
    "    ## adding some more data cleaning\n",
    "    df = df.rename(columns={\"Location_x\":\"Area\",\"English_Name_x\":\"English_Name\",\"Chinese_Name_x\":\"Chinese_Name\",\"Location_y\":\"Location\"})\n",
    "    df = df[df['English_Name_y'].notna()]\n",
    "    df.to_csv(file_to, index=False, encoding = 'utf-8')\n",
    "\n",
    "merge_rel(nanxi_en,'annotations/merged_1000_rel/nanxi_en.csv')\n",
    "merge_rel(nanxi_cn,'annotations/merged_1000_rel/nanxi_cn.csv')\n",
    "\n",
    "merge_rel(hang_cn,'annotations/merged_1000_rel/hang_cn.csv')\n",
    "merge_rel(hang_en,'annotations/merged_1000_rel/hang_en.csv')\n",
    "\n",
    "merge_rel(rukun_cn,'annotations/merged_1000_rel/rukun_cn.csv')\n",
    "merge_rel(rukun_en,'annotations/merged_1000_rel/rukun_en.csv')\n",
    "\n",
    "\n",
    "## Step 4: run the agreement calculation notebook"
   ]
  },
  {
   "cell_type": "markdown",
   "metadata": {},
   "source": [
    "#### A.3 Sanity Check"
   ]
  },
  {
   "cell_type": "code",
   "execution_count": 10,
   "metadata": {},
   "outputs": [
    {
     "name": "stdout",
     "output_type": "stream",
     "text": [
      "1722\n",
      "884\n"
     ]
    }
   ],
   "source": [
    "national = pd.read_csv('../data_cleaning/output/sample_final_parallel.csv')\n",
    "nanxi_cn = pd.read_csv('annotations/merged_1000/rukun_en.csv')\n",
    "nanxi_cn = pd.read_csv('annotations/merged_1000_rel/rukun_en.csv')\n",
    "\n",
    "print(national.shape[0])\n",
    "print(nanxi_cn.shape[0])"
   ]
  }
 ],
 "metadata": {
  "kernelspec": {
   "display_name": "env",
   "language": "python",
   "name": "env"
  },
  "language_info": {
   "codemirror_mode": {
    "name": "ipython",
    "version": 3
   },
   "file_extension": ".py",
   "mimetype": "text/x-python",
   "name": "python",
   "nbconvert_exporter": "python",
   "pygments_lexer": "ipython3",
   "version": "3.11.5"
  }
 },
 "nbformat": 4,
 "nbformat_minor": 2
}
