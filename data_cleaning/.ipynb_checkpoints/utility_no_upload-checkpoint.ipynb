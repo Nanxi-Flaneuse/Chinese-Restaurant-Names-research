{
 "cells": [
  {
   "cell_type": "code",
   "execution_count": 1,
   "metadata": {},
   "outputs": [],
   "source": [
    "import pandas as pd\n",
    "import numpy as np\n",
    "import seaborn as sns\n",
    "import matplotlib.pyplot as plt\n",
    "import math\n",
    "# import openai\n",
    "# from sentence_transformers import SentenceTransformer, util\n",
    "import json\n",
    "import csv\n",
    "import re"
   ]
  },
  {
   "cell_type": "markdown",
   "metadata": {},
   "source": [
    "### A. Preparing the datasets."
   ]
  },
  {
   "cell_type": "markdown",
   "metadata": {},
   "source": [
    "#### A.1 Randomly deleting extra samples from each state"
   ]
  },
  {
   "cell_type": "code",
   "execution_count": null,
   "metadata": {},
   "outputs": [],
   "source": [
    "def delete(file_from, states, numbers, file_to):\n",
    "    sample = pd.read_csv(file_from)\n",
    "    for "
   ]
  },
  {
   "cell_type": "markdown",
   "metadata": {},
   "source": [
    "#### A.2 Here we take the sample and returns a filtered sample with restaurants that have both Chinese and English names"
   ]
  },
  {
   "cell_type": "code",
   "execution_count": 2,
   "metadata": {},
   "outputs": [],
   "source": [
    "def get_Chinese(file_from, file_to):\n",
    "    sample = pd.read_csv(file_from)\n",
    "    sample_Chinese = sample.dropna(subset=['Chinese_Name'])\n",
    "    sample_Chinese.to_csv(file_to,index=False,encoding='utf-8')\n",
    "\n",
    "get_Chinese('output/sample_cleaned.csv','output/sample_parallel.csv')"
   ]
  },
  {
   "cell_type": "markdown",
   "metadata": {},
   "source": [
    "### B. Helper function for merging two datasets"
   ]
  },
  {
   "cell_type": "code",
   "execution_count": null,
   "metadata": {},
   "outputs": [],
   "source": [
    "# this function merges guest dataframe into host dataframe. Method is the how argument in the pandas merge method\n",
    "# and column_name is the on argument in the pandas merge method.\n",
    "def merge(host_file, guest_file, method, column_name, save_file):\n",
    "    host = pd.read_csv(host_file)\n",
    "    guest = pd.read_csv(guest_file)\n",
    "    host = host.merge(guest, how = method, on = column_name)\n",
    "    host.to_csv(save_file, index=False, encoding='utf-8')\n",
    "\n",
    "## to be executed\n",
    "# merge('','utilities/labeled_datasets/chinese_labeled.csv','left','national_id','output/chinese_labeled.csv')\n",
    "# merge('','utilities/labeled_datasets/english_labeled.csv','left','national_id','output/english_labeled.csv')"
   ]
  },
  {
   "cell_type": "markdown",
   "metadata": {},
   "source": [
    "### C. Splitting each labeled dataset into validation and testing sets"
   ]
  },
  {
   "cell_type": "markdown",
   "metadata": {},
   "source": [
    "#### step 1: Get rid of duplicate names "
   ]
  },
  {
   "cell_type": "code",
   "execution_count": null,
   "metadata": {},
   "outputs": [],
   "source": [
    "def get_unique(df, col_name):\n",
    "    return df.drop_duplicates(subset=[col_name])"
   ]
  },
  {
   "cell_type": "markdown",
   "metadata": {},
   "source": [
    "#### step 2: Split a dataset into training and validation sets"
   ]
  },
  {
   "cell_type": "code",
   "execution_count": null,
   "metadata": {},
   "outputs": [],
   "source": [
    "# helper function\n",
    "def remove_overlaps(df,df2):\n",
    "        # removing rows in df2 that appeared in df, resulting in a filtered df\n",
    "        df_new = pd.merge(df,df2, indicator=True, how='outer').query('_merge==\"left_only\"').drop('_merge', axis=1)\n",
    "        return df_new\n",
    "\n",
    "def split(df, col_name, training_filename, validation_filename):\n",
    "    df = get_unique(df, col_name)\n",
    "    training = df.sample(frac=0.5, random_state=1)\n",
    "    validation = remove_overlaps(df, training)\n",
    "    training.to_csv(training_filename, index=False, encoding='utf-8')\n",
    "    validation.to_csv(validation_filename, index=False, encoding='utf-8')\n",
    "\n",
    "# to be executed\n",
    "# split(golden_cn, 'Chinese_Name', 'training_cn.csv','validation_cn.csv')\n",
    "# split(golden_en, 'English_Name', 'training_en.csv','validation_en.csv')"
   ]
  },
  {
   "cell_type": "markdown",
   "metadata": {},
   "source": [
    "### D. detecting duplicates in the parallel cleaned sample"
   ]
  },
  {
   "cell_type": "code",
   "execution_count": 10,
   "metadata": {},
   "outputs": [],
   "source": [
    "sample = pd.read_csv('output/sample_no_duplicates.csv')\n",
    "# sample = sample[sample.google_id != '0x80dc9e0db4134fb9:0x117c553fca7a0c1']\n",
    "# sample = sample[sample.google_id != '0x809539b3cbe32de1:0x823a3dd6e4ae484c']\n",
    "# sample.to_csv('output/sample_no_duplicates_1.csv',index=False,encoding='utf-8')\n",
    "sample = sample.dropna(subset=['Chinese_Name'])\n",
    "duplicate = sample[sample.duplicated(['Chinese_Name','English_Name'])]\n",
    "print(duplicate)\n",
    "duplicate.to_csv('others/double_duplicates.csv')"
   ]
  },
  {
   "cell_type": "markdown",
   "metadata": {},
   "source": [
    "### E. Deleting double duplicates"
   ]
  },
  {
   "cell_type": "code",
   "execution_count": 7,
   "metadata": {},
   "outputs": [],
   "source": [
    "sample_parallel = pd.read_csv('output/sample_cleaned.csv')\n",
    "duplicates = pd.read_csv('utilities/double_duplicates_revised.csv')\n",
    "delete = sample_parallel.google_id.isin(duplicates.google_id)\n",
    "sample_parallel['delete'] = delete\n",
    "sample_parallel = sample_parallel[sample_parallel.delete == False]\n",
    "sample_parallel.to_csv('output/sample_no_duplicates.csv',index=False, encoding='utf-8')"
   ]
  }
 ],
 "metadata": {
  "kernelspec": {
   "display_name": "env",
   "language": "python",
   "name": "env"
  },
  "language_info": {
   "codemirror_mode": {
    "name": "ipython",
    "version": 3
   },
   "file_extension": ".py",
   "mimetype": "text/x-python",
   "name": "python",
   "nbconvert_exporter": "python",
   "pygments_lexer": "ipython3",
   "version": "3.11.5"
  }
 },
 "nbformat": 4,
 "nbformat_minor": 2
}
