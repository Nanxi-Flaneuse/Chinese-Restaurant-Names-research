{
 "cells": [
  {
   "cell_type": "code",
   "execution_count": 4,
   "id": "3f295863",
   "metadata": {},
   "outputs": [],
   "source": [
    "import pandas as pd\n",
    "import numpy as np\n",
    "import seaborn as sns\n",
    "import matplotlib.pyplot as plt\n",
    "import math\n",
    "import openai\n",
    "from sentence_transformers import SentenceTransformer, util\n",
    "import json\n",
    "\n",
    "states = ['Alabama', 'Arkansas', 'Kentucky', 'Louisiana', 'Mississippi', 'Tennessee', 'Texas', 'Oklahoma','California', 'Oregon', 'Washington', 'Alaska', 'Hawaii','Arizona', 'Colorado', 'Idaho', 'Montana', 'Nevada', 'New Mexico', 'Utah', 'Wyoming','Illinois', 'Indiana', 'Iowa', 'Kansas', 'Michigan', 'Minnesota', 'Missouri', 'Nebraska', 'North Dakota', 'Ohio', 'South Dakota', 'Wisconsin','Pennsylvania', 'Vermont', 'West Virginia','District Of Columbia','Connecticut', 'Delaware', 'Florida', 'Georgia', 'Maine', 'Maryland', 'Massachusetts', 'New Hampshire', 'New Jersey', 'New York', 'North Carolina', 'Rhode Island', 'South Carolina', 'Virginia']\n"
   ]
  },
  {
   "cell_type": "code",
   "execution_count": 7,
   "id": "5bc8ce28",
   "metadata": {
    "scrolled": true
   },
   "outputs": [
    {
     "name": "stdout",
     "output_type": "stream",
     "text": [
      "StartDate                2023-07-25 11:01:23\n",
      "EndDate                  2023-07-25 11:02:05\n",
      "Status                                     0\n",
      "IPAddress                            *******\n",
      "Progress                                 100\n",
      "Duration (in seconds)                     41\n",
      "Finished                                   1\n",
      "RecordedDate             2023-07-25 11:02:06\n",
      "ResponseId                 R_2AFOtRa3RA54r68\n",
      "RecipientLastName                    *******\n",
      "RecipientFirstName                   *******\n",
      "RecipientEmail                       *******\n",
      "ExternalReference                    *******\n",
      "LocationLatitude                     *******\n",
      "LocationLongitude                    *******\n",
      "DistributionChannel                anonymous\n",
      "UserLanguage                              EN\n",
      "1_Q1                                       1\n",
      "1_Q1_1_TEXT                               红叶\n",
      "2_Q1                                       1\n",
      "2_Q1_1_TEXT                              红叶园\n",
      "3_Q1                                       1\n",
      "3_Q1_1_TEXT                               韩亚\n",
      "4_Q1                                       0\n",
      "4_Q1_1_TEXT                              NaN\n",
      "Name: 5, dtype: object\n"
     ]
    }
   ],
   "source": [
    "\n",
    "df = pd.read_csv(r'testing.csv')\n",
    "print(df.iloc[5])\n",
    "# print(df.iloc[0])\n",
    "# print(df)\n"
   ]
  },
  {
   "cell_type": "markdown",
   "id": "6ead46d3",
   "metadata": {},
   "source": [
    "### Sampling"
   ]
  },
  {
   "cell_type": "code",
   "execution_count": 5,
   "id": "d2557f2c",
   "metadata": {},
   "outputs": [
    {
     "name": "stdout",
     "output_type": "stream",
     "text": [
      "4030\n",
      "California              426\n",
      "New York                294\n",
      "Texas                   207\n",
      "Pennsylvania            183\n",
      "Florida                 168\n",
      "New Jersey              153\n",
      "Illinois                117\n",
      "Ohio                     99\n",
      "North Carolina           98\n",
      "Georgia                  94\n",
      "Virginia                 93\n",
      "Massachusetts            90\n",
      "Michigan                 79\n",
      "Maryland                 73\n",
      "Washington               67\n",
      "Missouri                 65\n",
      "Connecticut              54\n",
      "South Carolina           51\n",
      "Alabama                  50\n",
      "Alaska                   50\n",
      "Maine                    50\n",
      "Oklahoma                 50\n",
      "Oregon                   50\n",
      "Delaware                 50\n",
      "District Of Columbia     50\n",
      "West Virginia            50\n",
      "Vermont                  50\n",
      "Louisiana                50\n",
      "South Dakota             50\n",
      "Nebraska                 50\n",
      "Kentucky                 50\n",
      "New Hampshire            50\n",
      "Rhode Island             50\n",
      "Arkansas                 50\n",
      "Kansas                   50\n",
      "Iowa                     50\n",
      "Hawaii                   50\n",
      "Wyoming                  50\n",
      "Utah                     50\n",
      "New Mexico               50\n",
      "Nevada                   50\n",
      "Montana                  50\n",
      "Idaho                    50\n",
      "Mississippi              50\n",
      "Arizona                  48\n",
      "Colorado                 48\n",
      "Indiana                  48\n",
      "Tennessee                46\n",
      "North Dakota             44\n",
      "Wisconsin                44\n",
      "Minnesota                41\n",
      "Name: us_state, dtype: int64\n"
     ]
    }
   ],
   "source": [
    "# Need to filter out non-English characters for the sample\n",
    "def sample(state):\n",
    "    filepath = 'filtered_datasets/states/'+state+'.csv'\n",
    "    df = pd.read_csv(filepath, encoding = 'utf-8').dropna(subset=['rating', 'reviews'])\n",
    "    df = df[df['name'].map(lambda x: x.isascii())]\n",
    "    if df.shape[0] > 400:\n",
    "        df_percent = df.sample(frac=0.1)\n",
    "    elif 50 < df.shape[0] < 400:\n",
    "        df_percent = df.sample(n = 50)\n",
    "    else:\n",
    "        df_percent = df\n",
    "    df_percent = df_percent[['name', 'location_link','site','us_state','type','subtypes','Area','rating']]\n",
    "#     df_percent.to_csv('samples/'+state+'.csv')\n",
    "    return df_percent\n",
    "\n",
    "def get_samples():\n",
    "    samples = []\n",
    "    for state in states:\n",
    "        samples.append(sample(state))\n",
    "    df_samples = pd.concat(samples).reset_index(drop = True)\n",
    "    df_samples.to_csv('samples.csv')\n",
    "    print(df_samples.shape[0])\n",
    "    print(df_samples['us_state'].value_counts())\n",
    "#     return df_samples\n",
    "get_samples()\n",
    "\n",
    "# def count(state):\n",
    "#     filepath = 'samples/'+state+'.csv'\n",
    "#     df = pd.read_csv(filepath, encoding = 'utf-8')\n",
    "#     print(state+\": \"+str(df.shape[0]))\n",
    "\n",
    "# def get_count():\n",
    "#     for state in states:\n",
    "#         count(state)\n",
    "# get_count()"
   ]
  }
 ],
 "metadata": {
  "kernelspec": {
   "display_name": "Python 3 (ipykernel)",
   "language": "python",
   "name": "python3"
  },
  "language_info": {
   "codemirror_mode": {
    "name": "ipython",
    "version": 3
   },
   "file_extension": ".py",
   "mimetype": "text/x-python",
   "name": "python",
   "nbconvert_exporter": "python",
   "pygments_lexer": "ipython3",
   "version": "3.8.6"
  }
 },
 "nbformat": 4,
 "nbformat_minor": 5
}
