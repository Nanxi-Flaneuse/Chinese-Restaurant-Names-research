{
 "cells": [
  {
   "cell_type": "code",
   "execution_count": 1,
   "id": "3f295863",
   "metadata": {},
   "outputs": [],
   "source": [
    "import pandas as pd\n",
    "import numpy as np\n",
    "import seaborn as sns\n",
    "import matplotlib.pyplot as plt\n",
    "import math\n",
    "import openai\n",
    "from sentence_transformers import SentenceTransformer, util\n",
    "import json\n",
    "\n",
    "states = ['Alabama', 'Arkansas', 'Kentucky', 'Louisiana', 'Mississippi', 'Tennessee', 'Texas', 'Oklahoma','California', 'Oregon', 'Washington', 'Alaska', 'Hawaii','Arizona', 'Colorado', 'Idaho', 'Montana', 'Nevada', 'New Mexico', 'Utah', 'Wyoming','Illinois', 'Indiana', 'Iowa', 'Kansas', 'Michigan', 'Minnesota', 'Missouri', 'Nebraska', 'North Dakota', 'Ohio', 'South Dakota', 'Wisconsin','Pennsylvania', 'Vermont', 'West Virginia','District Of Columbia','Connecticut', 'Delaware', 'Florida', 'Georgia', 'Maine', 'Maryland', 'Massachusetts', 'New Hampshire', 'New Jersey', 'New York', 'North Carolina', 'Rhode Island', 'South Carolina', 'Virginia']\n"
   ]
  },
  {
   "cell_type": "code",
   "execution_count": 7,
   "id": "5bc8ce28",
   "metadata": {
    "scrolled": true
   },
   "outputs": [
    {
     "name": "stdout",
     "output_type": "stream",
     "text": [
      "StartDate                2023-07-25 11:01:23\n",
      "EndDate                  2023-07-25 11:02:05\n",
      "Status                                     0\n",
      "IPAddress                            *******\n",
      "Progress                                 100\n",
      "Duration (in seconds)                     41\n",
      "Finished                                   1\n",
      "RecordedDate             2023-07-25 11:02:06\n",
      "ResponseId                 R_2AFOtRa3RA54r68\n",
      "RecipientLastName                    *******\n",
      "RecipientFirstName                   *******\n",
      "RecipientEmail                       *******\n",
      "ExternalReference                    *******\n",
      "LocationLatitude                     *******\n",
      "LocationLongitude                    *******\n",
      "DistributionChannel                anonymous\n",
      "UserLanguage                              EN\n",
      "1_Q1                                       1\n",
      "1_Q1_1_TEXT                               红叶\n",
      "2_Q1                                       1\n",
      "2_Q1_1_TEXT                              红叶园\n",
      "3_Q1                                       1\n",
      "3_Q1_1_TEXT                               韩亚\n",
      "4_Q1                                       0\n",
      "4_Q1_1_TEXT                              NaN\n",
      "Name: 5, dtype: object\n"
     ]
    }
   ],
   "source": [
    "\n",
    "df = pd.read_csv(r'testing.csv')\n",
    "print(df.iloc[5])\n",
    "# print(df.iloc[0])\n",
    "# print(df)\n"
   ]
  },
  {
   "cell_type": "markdown",
   "id": "6ead46d3",
   "metadata": {},
   "source": [
    "### Sampling"
   ]
  },
  {
   "cell_type": "code",
   "execution_count": null,
   "id": "d2557f2c",
   "metadata": {},
   "outputs": [],
   "source": [
    "# Need to filter out non-English characters for the sample\n",
    "def sample(state):\n",
    "    filepath = 'filtered_datasets/states/'+state+'.csv'\n",
    "    df = pd.read_csv(filepath, encoding = 'utf-8').dropna(subset=['rating', 'reviews'])\n",
    "    df = df[df['name'].map(lambda x: x.isascii())]\n",
    "    if df.shape[0] > 400:\n",
    "        df_percent = df.sample(frac=0.1)\n",
    "    elif 50 < df.shape[0] < 400:\n",
    "        df_percent = df.sample(n = 50)\n",
    "    else:\n",
    "        df_percent = df\n",
    "    df_percent = df_percent[['name', 'location_link','site','us_state','type','subtypes','Area','rating']]\n",
    "#     df_percent.to_csv('samples/'+state+'.csv')\n",
    "    return df_percent\n",
    "\n",
    "def get_samples():\n",
    "    samples = []\n",
    "    for state in states:\n",
    "        samples.append(sample(state))\n",
    "    df_samples = pd.concat(samples).reset_index(drop = True)\n",
    "    df_samples.to_csv('samples.csv')\n",
    "    print(df_samples.shape[0])\n",
    "    print(df_samples['us_state'].value_counts())\n",
    "#     return df_samples\n",
    "get_samples()\n",
    "\n",
    "# def count(state):\n",
    "#     filepath = 'samples/'+state+'.csv'\n",
    "#     df = pd.read_csv(filepath, encoding = 'utf-8')\n",
    "#     print(state+\": \"+str(df.shape[0]))\n",
    "\n",
    "# def get_count():\n",
    "#     for state in states:\n",
    "#         count(state)\n",
    "# get_count()"
   ]
  },
  {
   "cell_type": "markdown",
   "id": "bbe79b40",
   "metadata": {},
   "source": [
    "### We designed this to add some more samples to the sampled dataset in case we don't have enough number for a certain state."
   ]
  },
  {
   "cell_type": "code",
   "execution_count": 3,
   "id": "06fcd906",
   "metadata": {},
   "outputs": [
    {
     "name": "stdout",
     "output_type": "stream",
     "text": [
      "       Unnamed: 0.2  Unnamed: 0.1  Unnamed: 0  \\\n",
      "19762          9118          9118        9118   \n",
      "\n",
      "                                           query               name site  \\\n",
      "19762  chinese restaurant, 74454, Porter, OK, US  East China Buffet  NaN   \n",
      "\n",
      "                     type                              subtypes     category  \\\n",
      "19762  Chinese restaurant  Chinese restaurant, Asian restaurant  restaurants   \n",
      "\n",
      "                 phone  ... booking_appointment_link menu_link order_links  \\\n",
      "19762  +1 918-485-3888  ...                      NaN       NaN         NaN   \n",
      "\n",
      "                                           location_link  \\\n",
      "19762  https://www.google.com/maps/place/East+China+B...   \n",
      "\n",
      "                          place_id                              google_id  \\\n",
      "19762  ChIJB3lqo7JytocRcWthes-Lfu4  0x87b672b2a36a7907:0xee7e8bcf7a616b71   \n",
      "\n",
      "                        cid            reviews_id located_google_id  Area  \n",
      "19762  17185326951320087409  -1261417122389464207               NaN     0  \n",
      "\n",
      "[1 rows x 63 columns]\n",
      "<class 'pandas.core.frame.DataFrame'>\n"
     ]
    },
    {
     "name": "stderr",
     "output_type": "stream",
     "text": [
      "/var/folders/ck/1xc3_hrd4556zhtcl0bbnq9r0000gn/T/ipykernel_2415/718746591.py:3: DtypeWarning: Columns (60) have mixed types. Specify dtype option on import or set low_memory=False.\n",
      "  pool = pd.read_csv(pool_path)\n"
     ]
    }
   ],
   "source": [
    "def add_more(patch_path,sample_path, pool_path,state, number,other_path):\n",
    "    sample = pd.read_csv(sample_path)\n",
    "    pool = pd.read_csv(pool_path)\n",
    "    other = pd.read_csv(other_path)\n",
    "    try:\n",
    "        patch_file = pd.read_csv(patch_path)\n",
    "    except:\n",
    "        patch_file = pd.DataFrame(columns = list(pool))\n",
    "    # remove data in sample from pool\n",
    "    pool = pool[~pool.google_id.isin(sample.google_id)]\n",
    "    pool = pool[~pool.google_id.isin(other.google_id)]\n",
    "    # print(pool.shape[0])\n",
    "    patches = pool[pool['us_state']==state].sample(n = number)\n",
    "    print(patches)\n",
    "    print(type(patches))\n",
    "    patch_file = pd.concat([patch_file,patches])\n",
    "    patch_file.to_csv(patch_path,index=False,encoding='utf-8')\n",
    "\n",
    "\n",
    "\n",
    "# add_more('utilities/patches.csv','output/sample_cleaned.csv','output/national.csv','Iowa',1)\n",
    "# add_more('utilities/patches.csv','output/sample_cleaned.csv','output/national.csv','Utah',1)\n",
    "# add_more('utilities/patches.csv','output/sample_cleaned.csv','output/national.csv','Alabama',1)\n",
    "# add_more('utilities/patches.csv','output/sample_cleaned.csv','output/national.csv','Arkansas',1)\n",
    "# add_more('utilities/patches.csv','output/sample_cleaned.csv','output/national.csv','Kansas',1)\n",
    "# add_more('utilities/patches.csv','output/sample_cleaned.csv','output/national.csv','Kentucky',2)\n",
    "add_more('utilities/patches.csv','output/sample_cleaned.csv','output/national.csv','Oklahoma',1,'utilities/patches.csv')"
   ]
  }
 ],
 "metadata": {
  "kernelspec": {
   "display_name": "env",
   "language": "python",
   "name": "env"
  },
  "language_info": {
   "codemirror_mode": {
    "name": "ipython",
    "version": 3
   },
   "file_extension": ".py",
   "mimetype": "text/x-python",
   "name": "python",
   "nbconvert_exporter": "python",
   "pygments_lexer": "ipython3",
   "version": "3.11.5"
  }
 },
 "nbformat": 4,
 "nbformat_minor": 5
}
