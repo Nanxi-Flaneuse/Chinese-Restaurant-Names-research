{
 "cells": [
  {
   "cell_type": "code",
   "execution_count": 7,
   "id": "f402d7d8-95c7-4864-b619-8ad416184e84",
   "metadata": {},
   "outputs": [],
   "source": [
    "# !python3 -m pip install pandas\n",
    "import random\n",
    "import pandas as pd\n",
    "import numpy as np\n",
    "golden_cn = pd.read_csv('golden labels/golden_cn - cn_merged.csv')\n",
    "# golden_en = pd.read_csv('golden labels/golden_en - en_merged.csv')\n",
    "golden_cn = pd.read_csv('golden labels/cn_rel_merged.csv')\n",
    "golden_en = pd.read_csv('golden labels/en_rel_merged.csv')"
   ]
  },
  {
   "cell_type": "markdown",
   "id": "300eaf77-a437-461b-a2b2-4303e8544eaf",
   "metadata": {},
   "source": [
    "## Merge Relationship into Ambiance"
   ]
  },
  {
   "cell_type": "code",
   "execution_count": 2,
   "id": "e86efa8b-b5d0-4fd0-af02-22ff3f474546",
   "metadata": {},
   "outputs": [],
   "source": [
    "# golden_cn.loc[golden_cn['Relationship'] == 1, 'Ambiance'] = 1\n",
    "# golden_en.loc[golden_en['Relationship'] == 1, 'Ambiance'] = 1\n",
    "# golden_cn.drop(columns=['Relationship'])\n",
    "# golden_en.drop(columns=['Relationship'])\n",
    "# golden_cn.to_csv('cn_rel_merged.csv',encoding='utf-8',index=False)\n",
    "# golden_en.to_csv('en_rel_merged.csv',encoding='utf-8',index=False)"
   ]
  },
  {
   "cell_type": "markdown",
   "id": "b2febc58-8c7b-40bb-a8ed-4c5904c7692b",
   "metadata": {},
   "source": [
    "## Splitting Datasets into validation and testing set"
   ]
  },
  {
   "cell_type": "code",
   "execution_count": 8,
   "id": "3b257b40-5a8a-480e-b5eb-6187097bef67",
   "metadata": {},
   "outputs": [
    {
     "name": "stdout",
     "output_type": "stream",
     "text": [
      "     Unnamed: 0  sample_id  national_id               English_Name  \\\n",
      "1             1     1724.0      13697.0           New China Buffet   \n",
      "3             3     3119.0       9756.0              Bamboo Garden   \n",
      "4             4     1223.0      29370.0                 China Cafe   \n",
      "5             5     1241.0      17588.0              House of Chen   \n",
      "7             7      337.0       5610.0       Sang Kee Peking Duck   \n",
      "..          ...        ...          ...                        ...   \n",
      "986         986     1736.0      20931.0  Peking Chinese Restaurant   \n",
      "992         992     2018.0      32128.0                 King's Wok   \n",
      "993         993     2450.0       8893.0                 Sky Dragon   \n",
      "994         994      509.0      11359.0          Annie's First Wok   \n",
      "997         997     1470.0      30298.0            Shanghai Bistro   \n",
      "\n",
      "    Chinese_Name  Personal_Name  Specialty  Positivity  Culture  Location  \\\n",
      "1              中              0          0           0        0         1   \n",
      "3             竹园              0          0           0        1         0   \n",
      "4            中国楼              0          0           0        0         1   \n",
      "5            陈家园              1          0           0        0         0   \n",
      "7           生记烧腊              1          1           0        0         0   \n",
      "..           ...            ...        ...         ...      ...       ...   \n",
      "986           北京              0          0           0        0         1   \n",
      "992           皇厨              0          0           1        0         0   \n",
      "993           天龙              0          0           0        1         0   \n",
      "994          第一家              0          0           1        0         0   \n",
      "997           上海              0          0           0        0         1   \n",
      "\n",
      "     Ambiance  Pun_Creative  Relationship  \n",
      "1           0             0             0  \n",
      "3           1             0             0  \n",
      "4           1             0             0  \n",
      "5           1             0             0  \n",
      "7           0             0             0  \n",
      "..        ...           ...           ...  \n",
      "986         0             0             0  \n",
      "992         1             0             0  \n",
      "993         0             0             0  \n",
      "994         0             0             0  \n",
      "997         0             0             0  \n",
      "\n",
      "[337 rows x 13 columns]\n",
      "     Unnamed: 0  sample_id  national_id               English_Name  \\\n",
      "1             1     1724.0      13697.0           New China Buffet   \n",
      "3             3     3119.0       9756.0              Bamboo Garden   \n",
      "4             4     1223.0      29370.0                 China Cafe   \n",
      "6             6     1068.0      16174.0                  China Fun   \n",
      "8             8     3968.0       2544.0          Peking Restaurant   \n",
      "..          ...        ...          ...                        ...   \n",
      "980         980     1156.0      32478.0               Hunan Garden   \n",
      "982         982     3965.0        853.0                  China One   \n",
      "986         986     1736.0      20931.0  Peking Chinese Restaurant   \n",
      "992         992     2018.0      32128.0                 King's Wok   \n",
      "995         995     3397.0      28644.0               North Garden   \n",
      "\n",
      "    Chinese_Name  Personal_Name  Specialty  Positivity  Culture  Location  \\\n",
      "1              中              0          1           0        0         1   \n",
      "3             竹园              0          0           0        1         0   \n",
      "4            中国楼              0          0           0        0         1   \n",
      "6           黄石酒家              0          0           0        0         1   \n",
      "8             北京              0          0           0        0         1   \n",
      "..           ...            ...        ...         ...      ...       ...   \n",
      "980           湖南              0          0           0        0         1   \n",
      "982           锦辉              0          0           0        0         1   \n",
      "986           北京              0          0           0        0         1   \n",
      "992           皇厨              0          1           1        0         0   \n",
      "995           北园              0          0           0        0         1   \n",
      "\n",
      "     Ambiance  Pun_Creative  Romanized  Relationship  \n",
      "1           0             0          0             0  \n",
      "3           1             0          0             0  \n",
      "4           1             0          0             0  \n",
      "6           0             0          0             0  \n",
      "8           0             0          0             0  \n",
      "..        ...           ...        ...           ...  \n",
      "980         1             0          0             0  \n",
      "982         0             0          0             0  \n",
      "986         0             0          0             0  \n",
      "992         0             0          0             0  \n",
      "995         1             0          0             0  \n",
      "\n",
      "[244 rows x 14 columns]\n"
     ]
    }
   ],
   "source": [
    "duplicate_cn = golden_cn[golden_cn.duplicated(['Chinese_Name'], keep=False)]\n",
    "print(duplicate_cn)\n",
    "\n",
    "duplicate_en = golden_en[golden_en.duplicated(['English_Name'], keep=False)]\n",
    "print(duplicate_en)\n",
    "\n",
    "duplicate_cn.to_csv('cn_duplicates.csv',encoding='utf-8',index=False)\n",
    "duplicate_en.to_csv('en_duplicates.csv',encoding='utf-8',index=False)"
   ]
  },
  {
   "cell_type": "code",
   "execution_count": null,
   "id": "ce2481f3-66d4-4319-8925-421c0286c8f2",
   "metadata": {},
   "outputs": [],
   "source": [
    "# step 1: split cn_duplicates and en_duplicates into three dataframes. One containing restaurants with only Chinese duplicates, one containing\n",
    "# restaurants with only Eng duplicates, and one with both\n",
    "\n",
    "# step 2: produce three more dataframes containing unique names derived from dataframes generated in step 1, sample them\n",
    "\n",
    "# step 3: find sample duplicates in corresponding dataframes and add the sample and duplicates to validation/testing sets"
   ]
  },
  {
   "cell_type": "code",
   "execution_count": null,
   "id": "8543548d-d970-4d84-8013-bfb66b858dff",
   "metadata": {},
   "outputs": [],
   "source": []
  }
 ],
 "metadata": {
  "kernelspec": {
   "display_name": "Python 3 (ipykernel)",
   "language": "python",
   "name": "python3"
  },
  "language_info": {
   "codemirror_mode": {
    "name": "ipython",
    "version": 3
   },
   "file_extension": ".py",
   "mimetype": "text/x-python",
   "name": "python",
   "nbconvert_exporter": "python",
   "pygments_lexer": "ipython3",
   "version": "3.12.0"
  }
 },
 "nbformat": 4,
 "nbformat_minor": 5
}
